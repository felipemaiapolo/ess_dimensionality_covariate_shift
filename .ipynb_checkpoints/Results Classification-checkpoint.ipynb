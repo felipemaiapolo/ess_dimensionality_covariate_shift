{
 "cells": [
  {
   "cell_type": "markdown",
   "metadata": {},
   "source": [
    "## Importing packages"
   ]
  },
  {
   "cell_type": "markdown",
   "metadata": {},
   "source": [
    "Substituir output por lista de None"
   ]
  },
  {
   "cell_type": "code",
   "execution_count": 1,
   "metadata": {},
   "outputs": [],
   "source": [
    "import io\n",
    "import requests\n",
    "import os\n",
    "import sys\n",
    "import math\n",
    "import numpy as np  \n",
    "import pandas as pd\n",
    "import matplotlib.pyplot as plt\n",
    "import pickle\n",
    "import seaborn as sns\n",
    "import random\n",
    "import copy\n",
    "import multiprocessing as mp\n",
    "%matplotlib inline\n",
    "\n",
    "from programs.functions import *\n",
    "from programs.sklearn_models import *\n",
    "from programs.w_models import *\n",
    "from programs.select_vars_gmm import *\n",
    "from programs.dataset_functions import *"
   ]
  },
  {
   "cell_type": "code",
   "execution_count": 2,
   "metadata": {},
   "outputs": [],
   "source": [
    "random.seed(42)\n",
    "np.random.seed(42)"
   ]
  },
  {
   "cell_type": "markdown",
   "metadata": {},
   "source": [
    "## Setting up datasets"
   ]
  },
  {
   "cell_type": "markdown",
   "metadata": {},
   "source": [
    "Downloading datasets"
   ]
  },
  {
   "cell_type": "code",
   "execution_count": 3,
   "metadata": {},
   "outputs": [],
   "source": [
    "dataset_names=['abalone','ailerons','bank32nh','cal_housing','cpu_act','delta_ailerons',\n",
    "               'elevators', 'fried_delve','puma32H', 'winequality' ] "
   ]
  },
  {
   "cell_type": "code",
   "execution_count": 4,
   "metadata": {},
   "outputs": [
    {
     "name": "stdout",
     "output_type": "stream",
     "text": [
      "- *** abalone *** dataset shape= (4177, 9)\n",
      "- *** ailerons *** dataset shape= (13750, 41)\n",
      "- *** bank32nh *** dataset shape= (8192, 34)\n",
      "- *** cal_housing *** dataset shape= (20640, 9)\n",
      "- *** cpu_act *** dataset shape= (8192, 22)\n",
      "- *** delta_ailerons *** dataset shape= (7129, 6)\n",
      "- *** elevators *** dataset shape= (16599, 19)\n",
      "- *** fried_delve *** dataset shape= (40768, 11)\n",
      "- *** puma32H *** dataset shape= (8192, 33)\n",
      "- *** winequality *** dataset shape= (6497, 12)\n"
     ]
    }
   ],
   "source": [
    "data={}\n",
    "for name in dataset_names: data[name]=download_dataset(name) #get_X_y(, scale=True)"
   ]
  },
  {
   "cell_type": "code",
   "execution_count": 5,
   "metadata": {},
   "outputs": [],
   "source": [
    "for name in dataset_names: \n",
    "    n = data[name].shape[0]\n",
    "    index = np.random.choice(n, min(8000,n), replace=False)\n",
    "    data[name]=data[name].iloc[index,:]"
   ]
  },
  {
   "cell_type": "markdown",
   "metadata": {},
   "source": [
    "As we are going to work only with continous features, then we remove the categorical features:"
   ]
  },
  {
   "cell_type": "code",
   "execution_count": 6,
   "metadata": {},
   "outputs": [],
   "source": [
    "#Excluindo variável categórica\n",
    "data['abalone']=data['abalone'].iloc[:,1:]"
   ]
  },
  {
   "cell_type": "markdown",
   "metadata": {},
   "source": [
    "Get X and y:"
   ]
  },
  {
   "cell_type": "code",
   "execution_count": 7,
   "metadata": {},
   "outputs": [],
   "source": [
    "for name in dataset_names: data[name]=get_X_y(data[name], scale=False) #"
   ]
  },
  {
   "cell_type": "markdown",
   "metadata": {},
   "source": [
    "Expanding X"
   ]
  },
  {
   "cell_type": "code",
   "execution_count": 8,
   "metadata": {},
   "outputs": [],
   "source": [
    "for name in dataset_names:\n",
    "    n,d=data[name][0].shape\n",
    "    \n",
    "    if d<40:\n",
    "        data[name][0]=np.hstack((data[name][0], np.random.normal(0,1,n*(32-d)).reshape((n,-1))))"
   ]
  },
  {
   "cell_type": "code",
   "execution_count": 9,
   "metadata": {},
   "outputs": [],
   "source": [
    "for name in dataset_names:\n",
    "    m=np.median(data[name][1])\n",
    "    data[name][1]=1*(data[name][1]>m)"
   ]
  },
  {
   "cell_type": "code",
   "execution_count": 10,
   "metadata": {},
   "outputs": [
    {
     "name": "stdout",
     "output_type": "stream",
     "text": [
      "abalone (4177, 32)\n",
      "ailerons (8000, 40)\n",
      "bank32nh (8000, 32)\n",
      "cal_housing (8000, 32)\n",
      "cpu_act (8000, 32)\n",
      "delta_ailerons (7129, 32)\n",
      "elevators (8000, 32)\n",
      "fried_delve (8000, 32)\n",
      "puma32H (8000, 32)\n",
      "winequality (6497, 32)\n"
     ]
    }
   ],
   "source": [
    "from sklearn.preprocessing import StandardScaler\n",
    "\n",
    "for name in dataset_names: \n",
    "    scaler=StandardScaler()\n",
    "    data[name][0]=scaler.fit_transform(data[name][0])\n",
    "    print(name,data[name][0].shape)"
   ]
  },
  {
   "cell_type": "markdown",
   "metadata": {},
   "source": [
    "Splitting data"
   ]
  },
  {
   "cell_type": "code",
   "execution_count": 11,
   "metadata": {},
   "outputs": [],
   "source": [
    "B=75"
   ]
  },
  {
   "cell_type": "code",
   "execution_count": null,
   "metadata": {},
   "outputs": [
    {
     "name": "stdout",
     "output_type": "stream",
     "text": [
      "*** abalone ***\n",
      "*** ailerons ***\n",
      "*** bank32nh ***\n",
      "*** cal_housing ***\n",
      "*** cpu_act ***\n"
     ]
    }
   ],
   "source": [
    "%%time\n",
    "BB=2*B*48\n",
    "output={}\n",
    "\n",
    "for name in dataset_names: \n",
    "    print(\"***\",name,\"***\")\n",
    "    pool = mp.Pool(40)\n",
    "    output[name] = pool.starmap(aval_class, [(b, data[name][0], data[name][1]) for b in range(BB)]) #starmap\n",
    "    pool.close()"
   ]
  },
  {
   "cell_type": "code",
   "execution_count": null,
   "metadata": {},
   "outputs": [],
   "source": [
    "%%time\n",
    "\n",
    "data_split={}\n",
    "\n",
    "###     \n",
    "for name in dataset_names: \n",
    "    \n",
    "    arr=np.array(output[name])\n",
    "    index_sort=arr[:,0].argsort()\n",
    "    data_split[name]={}\n",
    "    \n",
    "    ###\n",
    "    error_ratios=[]\n",
    "    ess_percs=[]\n",
    "    ess_ns=[]\n",
    "    w_maxs=[]\n",
    "    ns=[]\n",
    "    \n",
    "    ###\n",
    "    for b in range(B):\n",
    "\n",
    "        error_ratio=arr[index_sort[b]][0]\n",
    "        ess_perc=arr[index_sort[b]][1]\n",
    "        ess_n=arr[index_sort[b]][2] \n",
    "        n=arr[index_sort[b]][3]\n",
    "        s=arr[index_sort[b]][4]\n",
    "        w=arr[index_sort[b]][5]\n",
    "        data_split[name][b]={}\n",
    "\n",
    "        data_split[name][b]['train']=data[name][0][s], data[name][1][s], w[s]\n",
    "        data_split[name][b]['test']=data[name][0][~s], data[name][1][~s], w[~s]\n",
    "        \n",
    "        error_ratios.append(error_ratio)\n",
    "        ess_percs.append(ess_perc)\n",
    "        ess_ns.append(ess_n)\n",
    "        w_maxs.append(np.max(w[s])/np.sum(w[s]))\n",
    "        ns.append(n)\n",
    "        \n",
    "    \n",
    "    print(\"\\n************\",name,\"************\")\n",
    "    print(\"Relative Error\")\n",
    "    sns.distplot(error_ratios)\n",
    "    plt.show()\n",
    "    \n",
    "    print(\"\\nESS (%)\")\n",
    "    sns.distplot(ess_percs)\n",
    "    plt.show()\n",
    "    \n",
    "    print(\"\\nESS (n)\")\n",
    "    sns.distplot(ess_ns)\n",
    "    plt.show()\n",
    "    \n",
    "    print(\"\\nMax w\")\n",
    "    sns.distplot(w_maxs)\n",
    "    plt.show()\n",
    "    \n",
    "    print(\"\\nActual training sample size\")\n",
    "    sns.distplot(ns)\n",
    "    plt.show()"
   ]
  },
  {
   "cell_type": "markdown",
   "metadata": {},
   "source": [
    "## Experiments\n",
    "\n",
    "Some of the experiments will be created but will carry no content. This is because we wanted to keep the same structure for the notebook compared to its older versions."
   ]
  },
  {
   "cell_type": "markdown",
   "metadata": {},
   "source": [
    "### All features - true weights"
   ]
  },
  {
   "cell_type": "code",
   "execution_count": null,
   "metadata": {},
   "outputs": [],
   "source": [
    "def experiments_true(b):\n",
    "    \n",
    "    #Datasets\n",
    "    X_test, y_test=copy.deepcopy(data_split[name][b]['test'][0]), copy.deepcopy(data_split[name][b]['test'][1])\n",
    "    X_train, y_train=copy.deepcopy(data_split[name][b]['train'][0]),copy.deepcopy(data_split[name][b]['train'][1])\n",
    "    X_test, X_test_w, y_test, y_test_w=train_test_split(X_test, y_test, test_size=0.8, random_state=42) #the greater percentage goes to w training\n",
    "    \n",
    "    #####################################\n",
    "    ######## Weighted Experiment ########\n",
    "    #####################################\n",
    "\n",
    "    #Estimate w\n",
    "    w = copy.deepcopy(data_split[name][b]['train'][2])\n",
    "    \n",
    "    #Training\n",
    "    w_norm=w/np.sum(w)\n",
    "    w_norm1=copy.deepcopy(w_norm)\n",
    "    model1 = DT_class()\n",
    "    model1 = model1.fit(X_train,y_train,sample_weight=w_norm)\n",
    "    \n",
    "    #Testing\n",
    "    y_hat1 = model1.predict(X_test)\n",
    "    error1 = class_error(y_hat1,y_test)\n",
    "    \n",
    "    #W_MAX\n",
    "    n=w.shape[0]\n",
    "    index = w.argsort()[-int(n/100):][::-1]\n",
    "    w_10_1 = np.sum(w_norm[index])/np.sum(w_norm)\n",
    "\n",
    "    #ESS\n",
    "    n=w.shape[0]\n",
    "    ess1=np.round(1/np.sum(w_norm**2), 2) \n",
    "\n",
    "    #Output\n",
    "    return None, [b, error1, w_10_1, ess1/n, X_train.shape[1], w_norm1], [b, None, None, None, None, None]"
   ]
  },
  {
   "cell_type": "code",
   "execution_count": null,
   "metadata": {},
   "outputs": [],
   "source": [
    "%%time \n",
    "output={}\n",
    "\n",
    "for name in dataset_names: \n",
    "    print(\"***\",name,\"***\")\n",
    "\n",
    "    pool = mp.Pool(mp.cpu_count())\n",
    "    output[name] = pool.map_async(experiments_true, [(b) for b in range(B)]).get()\n",
    "    pool.close()"
   ]
  },
  {
   "cell_type": "code",
   "execution_count": null,
   "metadata": {},
   "outputs": [],
   "source": [
    "experiments_true1_output={}\n",
    "experiments_true2_output={}\n",
    "\n",
    "for name in dataset_names: \n",
    "    experiments_true1_output[name]=[] \n",
    "    experiments_true2_output[name]=[]\n",
    "    \n",
    "    for b in range(B):\n",
    "        experiments_true1_output[name].append(output[name][b][1][:-1])\n",
    "        experiments_true2_output[name].append(output[name][b][2][:-1])\n",
    "         \n",
    "    experiments_true1_output[name]=np.array(experiments_true1_output[name])\n",
    "    experiments_true2_output[name]=np.array(experiments_true2_output[name])"
   ]
  },
  {
   "cell_type": "code",
   "execution_count": null,
   "metadata": {},
   "outputs": [],
   "source": [
    "f = open(\"outputs/experiments_true1_output_class.pkl\",\"wb\")\n",
    "pickle.dump(experiments_true1_output,f)\n",
    "f.close()\n",
    "\n",
    "f = open(\"outputs/experiments_true2_output_class.pkl\",\"wb\")\n",
    "pickle.dump(experiments_true2_output,f)\n",
    "f.close()"
   ]
  },
  {
   "cell_type": "markdown",
   "metadata": {},
   "source": [
    "### All features - estimated weights"
   ]
  },
  {
   "cell_type": "code",
   "execution_count": null,
   "metadata": {},
   "outputs": [],
   "source": [
    "def experiments_0_1_2(b):\n",
    "    \n",
    "    #Datasets\n",
    "    X_test, y_test=copy.deepcopy(data_split[name][b]['test'][0]), copy.deepcopy(data_split[name][b]['test'][1])\n",
    "    X_train, y_train=copy.deepcopy(data_split[name][b]['train'][0]),copy.deepcopy(data_split[name][b]['train'][1])\n",
    "    X_test, X_test_w, y_test, y_test_w=train_test_split(X_test, y_test, test_size=0.8, random_state=42) #the greater percentage goes to w training\n",
    "   \n",
    "    \n",
    "    #####################################\n",
    "    ####### Unweighted Experiment #######\n",
    "    #####################################\n",
    "    \n",
    "    #Training\n",
    "    model0=DT_class()\n",
    "    model0=model0.fit(X_train,y_train,sample_weight=None)\n",
    "    \n",
    "    #Testing\n",
    "    y_hat0=model0.predict(X_test)\n",
    "    error0=class_error(y_hat0,y_test)\n",
    "    \n",
    "    \n",
    "    #####################################\n",
    "    ######## Weighted Experiment ########\n",
    "    #####################################\n",
    "\n",
    "    #Estimate w\n",
    "    model_w = Poly_Logreg_w(2) \n",
    "    model_w.fit(X_test_w, X_train)\n",
    "    w = model_w.predict(X_train)\n",
    "    \n",
    "    #Training\n",
    "    w_norm=w/np.sum(w)\n",
    "    w_norm1=copy.deepcopy(w_norm)\n",
    "    model1 = DT_class()\n",
    "    model1 = model1.fit(X_train,y_train,sample_weight=w_norm)\n",
    "    \n",
    "    #Testing\n",
    "    y_hat1 = model1.predict(X_test)\n",
    "    error1 = class_error(y_hat1,y_test)\n",
    "    \n",
    "    #W_MAX\n",
    "    n=w.shape[0]\n",
    "    index = w.argsort()[-int(n/100):][::-1]\n",
    "    w_10_1 = np.sum(w_norm[index])/np.sum(w_norm)\n",
    "\n",
    "    #ESS\n",
    "    n=w.shape[0]\n",
    "    ess1=np.round(1/np.sum(w_norm**2), 2) \n",
    "    \n",
    "    \n",
    "    #Output\n",
    "    return [b, error0, .01 , 1, X_train.shape[1], None], [b, error1, w_10_1, ess1/n, X_train.shape[1], w_norm1], [b, None, None, None, None, None]"
   ]
  },
  {
   "cell_type": "code",
   "execution_count": null,
   "metadata": {},
   "outputs": [],
   "source": [
    "%%time \n",
    "output={}\n",
    "\n",
    "for name in dataset_names: \n",
    "    print(\"***\",name,\"***\")\n",
    "\n",
    "    pool = mp.Pool(mp.cpu_count())\n",
    "    output[name] = pool.map_async(experiments_0_1_2, [(b) for b in range(B)]).get()\n",
    "    pool.close()"
   ]
  },
  {
   "cell_type": "code",
   "execution_count": null,
   "metadata": {},
   "outputs": [],
   "source": [
    "experiments_0_output={}\n",
    "experiments_1_output={}\n",
    "experiments_2_output={}\n",
    "\n",
    "for name in dataset_names: \n",
    "    experiments_0_output[name]=[]\n",
    "    experiments_1_output[name]=[] \n",
    "    experiments_2_output[name]=[]\n",
    "    \n",
    "    for b in range(B):\n",
    "        experiments_0_output[name].append(output[name][b][0][:-1])\n",
    "        experiments_1_output[name].append(output[name][b][1][:-1])\n",
    "        experiments_2_output[name].append(output[name][b][2][:-1])\n",
    "        \n",
    "    experiments_0_output[name]=np.array(experiments_0_output[name])\n",
    "    experiments_1_output[name]=np.array(experiments_1_output[name])\n",
    "    experiments_2_output[name]=np.array(experiments_2_output[name])"
   ]
  },
  {
   "cell_type": "code",
   "execution_count": null,
   "metadata": {},
   "outputs": [],
   "source": [
    "f = open(\"outputs/experiments_0_output_class.pkl\",\"wb\")\n",
    "pickle.dump(experiments_0_output,f)\n",
    "f.close()\n",
    "\n",
    "f = open(\"outputs/experiments_1_output_class.pkl\",\"wb\")\n",
    "pickle.dump(experiments_1_output,f)\n",
    "f.close()\n",
    "\n",
    "f = open(\"outputs/experiments_2_output_class.pkl\",\"wb\")\n",
    "pickle.dump(experiments_2_output,f)\n",
    "f.close()"
   ]
  },
  {
   "cell_type": "markdown",
   "metadata": {},
   "source": [
    "### Selected features - estimated weights"
   ]
  },
  {
   "cell_type": "code",
   "execution_count": null,
   "metadata": {},
   "outputs": [],
   "source": [
    "def gmm_scores(X_train,X_test,k):  \n",
    "    clf = mixture.GaussianMixture(n_components=k, covariance_type='full')\n",
    "    clf.fit(X_train)\n",
    "    return [clf.score(X_test),clf.aic(X_test), clf.bic(X_test)]"
   ]
  },
  {
   "cell_type": "code",
   "execution_count": null,
   "metadata": {},
   "outputs": [],
   "source": [
    "def experiments_3_4_5(b):\n",
    "\n",
    "    #Datasets\n",
    "    X_test, y_test=copy.deepcopy(data_split[name][b]['test'][0]), copy.deepcopy(data_split[name][b]['test'][1])\n",
    "    X_train, y_train=copy.deepcopy(data_split[name][b]['train'][0]),copy.deepcopy(data_split[name][b]['train'][1])\n",
    "    X_test, X_test_w, y_test, y_test_w=train_test_split(X_test, y_test, test_size=0.8, random_state=42) #the greater percentage goes to w training\n",
    "    \n",
    "    #GMM\n",
    "    classes=list(set(y_train))\n",
    "    gmm={}\n",
    "\n",
    "    for c in classes:\n",
    "        #Selecting number of components\n",
    "        X_gmm_train, X_gmm_test, _, _=train_test_split(X_train[y_train==c], X_train[y_train==c], test_size=0.5, random_state=42)\n",
    "        aic_bic=np.array([gmm_scores(X_gmm_train, X_gmm_test, k) for k in list(range(1,15,2))])\n",
    "        k_star=2*np.argmax(aic_bic[:,0])+1\n",
    "\n",
    "        #Training GMMs\n",
    "        gmm[c] = mixture.GaussianMixture(n_components=k_star, covariance_type='full', random_state=42)\n",
    "        gmm[c].fit(X_train[y_train==c])\n",
    "\n",
    "    #Selecting vars\n",
    "    select=select_vars(gmm, d=15, stop=0.01)\n",
    "    select.fit(X_train, y_train, verbose=False)    \n",
    "    X_train=select.transform(X_train)\n",
    "    X_test=select.transform(X_test)\n",
    "    X_test_w=select.transform(X_test_w)\n",
    "    \n",
    "    \n",
    "    #####################################\n",
    "    ######## Weighted Experiment ########\n",
    "    #####################################\n",
    "\n",
    "    #Estimate w\n",
    "    model_w = Poly_Logreg_w(2) \n",
    "    model_w.fit(X_test_w, X_train)\n",
    "    w = model_w.predict(X_train)\n",
    "    \n",
    "    #Training\n",
    "    w_norm=w/np.sum(w)\n",
    "    w_norm1=copy.deepcopy(w_norm)\n",
    "    model1 = DT_class()\n",
    "    model1 = model1.fit(X_train,y_train,sample_weight=w_norm)\n",
    "    \n",
    "    #Testing\n",
    "    y_hat1 = model1.predict(X_test)\n",
    "    error1 = class_error(y_hat1,y_test)\n",
    "    \n",
    "    #W_MAX\n",
    "    n=w.shape[0]\n",
    "    index = w.argsort()[-int(n/100):][::-1]\n",
    "    w_10_1 = np.sum(w_norm[index])/np.sum(w_norm)\n",
    "\n",
    "    #ESS\n",
    "    n=w.shape[0]\n",
    "    ess1=np.round(1/np.sum(w_norm**2), 2) \n",
    "    \n",
    "    #Output\n",
    "    return [b, None, None, None, None, None], [b, error1, w_10_1, ess1/n, X_train.shape[1],w_norm1], [b, None, None, None, None, None]"
   ]
  },
  {
   "cell_type": "code",
   "execution_count": null,
   "metadata": {},
   "outputs": [],
   "source": [
    "%%time \n",
    "output={}\n",
    "\n",
    "for name in dataset_names: \n",
    "    print(\"***\",name,\"***\")\n",
    "\n",
    "    pool = mp.Pool(mp.cpu_count())\n",
    "    output[name] = pool.map_async(experiments_3_4_5, [(b) for b in range(B)]).get()\n",
    "    pool.close()"
   ]
  },
  {
   "cell_type": "code",
   "execution_count": null,
   "metadata": {},
   "outputs": [],
   "source": [
    "experiments_3_output={}\n",
    "experiments_4_output={}\n",
    "experiments_5_output={}\n",
    "\n",
    "for name in dataset_names: \n",
    "    experiments_3_output[name]=[] \n",
    "    experiments_4_output[name]=[]\n",
    "    experiments_5_output[name]=[]\n",
    "    \n",
    "    for b in range(B):\n",
    "        experiments_3_output[name].append(output[name][b][0][:-1])\n",
    "        experiments_4_output[name].append(output[name][b][1][:-1])\n",
    "        experiments_5_output[name].append(output[name][b][2][:-1])\n",
    "    \n",
    "        \n",
    "    experiments_3_output[name]=np.array(experiments_3_output[name])\n",
    "    experiments_4_output[name]=np.array(experiments_4_output[name])\n",
    "    experiments_5_output[name]=np.array(experiments_5_output[name])"
   ]
  },
  {
   "cell_type": "code",
   "execution_count": null,
   "metadata": {},
   "outputs": [],
   "source": [
    "f = open(\"outputs/experiments_3_output_class.pkl\",\"wb\")\n",
    "pickle.dump(experiments_3_output,f)\n",
    "f.close()\n",
    "\n",
    "f = open(\"outputs/experiments_4_output_class.pkl\",\"wb\")\n",
    "pickle.dump(experiments_4_output,f)\n",
    "f.close()\n",
    "\n",
    "f = open(\"outputs/experiments_5_output_class.pkl\",\"wb\")\n",
    "pickle.dump(experiments_5_output,f)\n",
    "f.close()"
   ]
  },
  {
   "cell_type": "code",
   "execution_count": null,
   "metadata": {},
   "outputs": [],
   "source": []
  },
  {
   "cell_type": "code",
   "execution_count": null,
   "metadata": {},
   "outputs": [],
   "source": []
  }
 ],
 "metadata": {
  "kernelspec": {
   "display_name": "Python 3",
   "language": "python",
   "name": "python3"
  },
  "language_info": {
   "codemirror_mode": {
    "name": "ipython",
    "version": 3
   },
   "file_extension": ".py",
   "mimetype": "text/x-python",
   "name": "python",
   "nbconvert_exporter": "python",
   "pygments_lexer": "ipython3",
   "version": "3.8.3"
  }
 },
 "nbformat": 4,
 "nbformat_minor": 4
}
