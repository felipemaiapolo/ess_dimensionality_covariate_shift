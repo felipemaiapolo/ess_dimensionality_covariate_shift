{
 "cells": [
  {
   "cell_type": "code",
   "execution_count": 21,
   "metadata": {
    "colab": {
     "base_uri": "https://localhost:8080/",
     "height": 156
    },
    "colab_type": "code",
    "executionInfo": {
     "elapsed": 46310,
     "status": "ok",
     "timestamp": 1597950137769,
     "user": {
      "displayName": "Felipe Polo",
      "photoUrl": "https://lh3.googleusercontent.com/a-/AOh14GhLeVt6xAxIrzlWEpzNG0RUjovkJLbT1IiBVlLugMQ=s64",
      "userId": "13711954263016708227"
     },
     "user_tz": 180
    },
    "id": "meWaAtaqfq-I",
    "outputId": "693bc478-16dd-4b24-df96-cfe786621f6c"
   },
   "outputs": [],
   "source": [
    "import multiprocessing as mp\n",
    "import numpy as np\n",
    "import matplotlib.pyplot as plt\n",
    "import seaborn as sns\n",
    "from sklearn.tree import DecisionTreeRegressor\n",
    "from sklearn.model_selection import train_test_split\n",
    "from sklearn.metrics import mean_squared_error\n",
    "import matplotlib.patches as mpatches\n",
    "from tqdm import tqdm\n",
    "import random"
   ]
  },
  {
   "cell_type": "code",
   "execution_count": 22,
   "metadata": {},
   "outputs": [],
   "source": [
    "random.seed(42)\n",
    "np.random.seed(42)"
   ]
  },
  {
   "cell_type": "markdown",
   "metadata": {
    "colab_type": "text",
    "id": "rMMXr6X4sraf"
   },
   "source": [
    "[np.log(np.mean(np.random.normal(lamb,1,d))**2) for i in range(100)]"
   ]
  },
  {
   "cell_type": "code",
   "execution_count": 23,
   "metadata": {
    "colab": {},
    "colab_type": "code",
    "executionInfo": {
     "elapsed": 887,
     "status": "ok",
     "timestamp": 1597950138693,
     "user": {
      "displayName": "Felipe Polo",
      "photoUrl": "https://lh3.googleusercontent.com/a-/AOh14GhLeVt6xAxIrzlWEpzNG0RUjovkJLbT1IiBVlLugMQ=s64",
      "userId": "13711954263016708227"
     },
     "user_tz": 180
    },
    "id": "1GTX7L26AE4S"
   },
   "outputs": [],
   "source": [
    "def ess(d,lamb,n):\n",
    "  return n/np.exp(d*lamb**2)"
   ]
  },
  {
   "cell_type": "code",
   "execution_count": 24,
   "metadata": {
    "colab": {},
    "colab_type": "code",
    "executionInfo": {
     "elapsed": 875,
     "status": "ok",
     "timestamp": 1597950138695,
     "user": {
      "displayName": "Felipe Polo",
      "photoUrl": "https://lh3.googleusercontent.com/a-/AOh14GhLeVt6xAxIrzlWEpzNG0RUjovkJLbT1IiBVlLugMQ=s64",
      "userId": "13711954263016708227"
     },
     "user_tz": 180
    },
    "id": "xz4mef6tzcZS"
   },
   "outputs": [],
   "source": [
    "def D(d,lamb,n):\n",
    "  return d*lamb**2"
   ]
  },
  {
   "cell_type": "code",
   "execution_count": 25,
   "metadata": {
    "colab": {},
    "colab_type": "code",
    "executionInfo": {
     "elapsed": 1106,
     "status": "ok",
     "timestamp": 1597950138938,
     "user": {
      "displayName": "Felipe Polo",
      "photoUrl": "https://lh3.googleusercontent.com/a-/AOh14GhLeVt6xAxIrzlWEpzNG0RUjovkJLbT1IiBVlLugMQ=s64",
      "userId": "13711954263016708227"
     },
     "user_tz": 180
    },
    "id": "nottVzse5x2T"
   },
   "outputs": [],
   "source": [
    "def w(x,l,d):\n",
    "  return np.exp(l*np.sum(x)-.5*(d*l**2))"
   ]
  },
  {
   "cell_type": "code",
   "execution_count": 26,
   "metadata": {},
   "outputs": [],
   "source": [
    "def curve(d,ll,b):\n",
    "    np.random.seed(b)\n",
    "    l=lamb[ll]\n",
    "\n",
    "    X_train=np.random.normal(0,1,m_train*d).reshape((m_train,d))\n",
    "    y_train=np.array([np.random.normal(100*x,1) for x in X_train[:,0]])\n",
    "    w_train=np.array([w(x,l,d) for x in X_train])\n",
    "\n",
    "    X_test=np.random.normal(l*1,1,m_test*d).reshape((m_test,d))\n",
    "    y_test=np.array([np.random.normal(100*x,1) for x in X_test[:,0]])\n",
    "\n",
    "    model=DecisionTreeRegressor(min_samples_leaf=10, random_state=42)\n",
    "    model.fit(X_train[:,:],y_train,sample_weight=w_train)\n",
    "    y_pred=model.predict(X_test[:,:])\n",
    "\n",
    "    return np.sqrt(mean_squared_error(y_test, y_pred))"
   ]
  },
  {
   "cell_type": "code",
   "execution_count": null,
   "metadata": {
    "colab": {},
    "colab_type": "code",
    "id": "-1rb5AV4txo1"
   },
   "outputs": [
    {
     "name": "stderr",
     "output_type": "stream",
     "text": [
      "100%|██████████| 50/50 [3:36:23<00:00, 259.67s/it]  \n",
      " 12%|█▏        | 6/50 [26:34<3:13:42, 264.16s/it]"
     ]
    }
   ],
   "source": [
    "plt.figure(figsize=(15,3.25))\n",
    "\n",
    "left  = 0.125  # the left side of the subplots of the figure\n",
    "right = 0.9    # the right side of the subplots of the figure\n",
    "bottom = 0.1   # the bottom of the subplots of the figure\n",
    "top = 0.9      # the top of the subplots of the figure\n",
    "wspace = 0.25   # the amount of width reserved for blank space between subplots\n",
    "hspace = 0.2   # the amount of height reserved for white space between subplots\n",
    "plt.subplots_adjust(left, bottom, right, top, wspace, hspace)\n",
    "\n",
    "####\n",
    "\n",
    "x=list(range(1,65))\n",
    "n=1\n",
    "essn=100\n",
    "\n",
    "lamb1=.1\n",
    "lamb2=.2\n",
    "lamb3=.3\n",
    "lamb4=.4\n",
    "lamb5=.5\n",
    "\n",
    "####\n",
    "plt.subplot(1, 3, 2)\n",
    "\n",
    "y1=[ess(d,lamb1,n) for d in x]\n",
    "y2=[ess(d,lamb2,n) for d in x]\n",
    "y3=[ess(d,lamb3,n) for d in x]\n",
    "y4=[ess(d,lamb4,n) for d in x]\n",
    "y5=[ess(d,lamb5,n) for d in x]\n",
    "\n",
    "plt.plot(x,y1,'y', lw=4, label='λ='+str(lamb1))\n",
    "plt.plot(x,y2,'c--', lw=3, label='λ='+str(lamb2))\n",
    "plt.plot(x,y3,'g-.', lw=2.5, label='λ='+str(lamb3))\n",
    "plt.plot(x,y4,'b--', lw=3, label='λ='+str(lamb4))\n",
    "plt.plot(x,y5,'k:', lw=4, label='λ='+str(lamb5))\n",
    "\n",
    "plt.xlabel('Dimensions (d)', size=12)\n",
    "plt.ylabel('ESS*', size=12)\n",
    "plt.legend(bbox_to_anchor=(.705, .98), loc='upper left', borderaxespad=.0)\n",
    "\n",
    "\n",
    "####\n",
    "plt.subplot(1, 3, 3)\n",
    "\n",
    "dim=list(range(1,65))\n",
    "B=50\n",
    "m_train=1000000\n",
    "m_test=1000000\n",
    "cols={5:'k',4:'b' ,3:'g', 2:'c' ,1:'y'}\n",
    "lamb={1:lamb1,2:lamb2 ,3:lamb3, 4:lamb4 ,5:lamb5}\n",
    "\n",
    "for ll in [1,2,3,4,5]:\n",
    "  losses1=[]\n",
    "\n",
    "  for b in tqdm(range(B)):\n",
    "    #\n",
    "    cpus=40\n",
    "    pool = mp.Pool(cpus)\n",
    "    losses2 = pool.starmap(curve, [(d, ll, b) for d in dim]) #starmap\n",
    "    pool.close()\n",
    "    \n",
    "    #losses2 = [[curve(d, ll, b) for d in dim]]\n",
    "    \n",
    "    losses1.append(losses2)\n",
    "\n",
    "  losses1=np.array(losses1)\n",
    "\n",
    "  m=np.mean(losses1, axis=0)\n",
    "  err=np.std(losses1, axis=0)\n",
    "\n",
    "  plt.plot(dim, m, cols[ll], lw=3)\n",
    "  plt.fill_between(dim, m-err, m+err, color=cols[ll], alpha=0.35)\n",
    " \n",
    "    \n",
    "l1 = mpatches.Patch(color=cols[1], label='λ='+str(lamb[1]))\n",
    "l2 = mpatches.Patch(color=cols[2], label='λ='+str(lamb[2]))\n",
    "l4 = mpatches.Patch(color=cols[3], label='λ='+str(lamb[3]))\n",
    "l3 = mpatches.Patch(color=cols[4], label='λ='+str(lamb[4]))\n",
    "l5 = mpatches.Patch(color=cols[5], label='λ='+str(lamb[5]))\n",
    "\n",
    "plt.xlabel('Dimensions (d)', size=12)\n",
    "plt.ylabel('Test Error', size=12)\n",
    "plt.legend(bbox_to_anchor=(.025, .98), loc='upper left', borderaxespad=.0,handles=[l1,l2,l4,l3,l5])\n",
    "\n",
    "#####\n",
    "plt.subplot(1, 3, 1)\n",
    "\n",
    "y1=[D(d,lamb1,n) for d in x]\n",
    "y2=[D(d,lamb2,n) for d in x]\n",
    "y3=[D(d,lamb3,n) for d in x]\n",
    "y4=[D(d,lamb4,n) for d in x]\n",
    "y5=[D(d,lamb5,n) for d in x]\n",
    "\n",
    "plt.plot(x,y1,'y', lw=4, label='λ='+str(lamb1))\n",
    "plt.plot(x,y2,'c--', lw=3, label='λ='+str(lamb2))\n",
    "plt.plot(x,y3,'g-.', lw=2.5, label='λ='+str(lamb3))\n",
    "plt.plot(x,y4,'b--', lw=3, label='λ='+str(lamb4))\n",
    "plt.plot(x,y5,'k:', lw=4, label='λ='+str(lamb5))\n",
    "\n",
    "plt.xlabel('Dimensions (d)', size=12)\n",
    "plt.ylabel('Rényi Divergence', size=12)\n",
    "plt.legend(bbox_to_anchor=(.03, .98), loc='upper left', borderaxespad=.0)\n",
    "\n",
    "plt.savefig('plots/d_full3.png', bbox_inches='tight',dpi=200, transparent=True)\n",
    "plt.show()"
   ]
  },
  {
   "cell_type": "code",
   "execution_count": null,
   "metadata": {},
   "outputs": [],
   "source": []
  },
  {
   "cell_type": "code",
   "execution_count": null,
   "metadata": {},
   "outputs": [],
   "source": []
  },
  {
   "cell_type": "code",
   "execution_count": null,
   "metadata": {},
   "outputs": [],
   "source": []
  }
 ],
 "metadata": {
  "colab": {
   "authorship_tag": "ABX9TyOD4ZWWQ+mPFmwm5gP5mIYd",
   "collapsed_sections": [],
   "name": "Cópia 2 de Toy2.ipynb",
   "provenance": []
  },
  "kernelspec": {
   "display_name": "Python 3",
   "language": "python",
   "name": "python3"
  },
  "language_info": {
   "codemirror_mode": {
    "name": "ipython",
    "version": 3
   },
   "file_extension": ".py",
   "mimetype": "text/x-python",
   "name": "python",
   "nbconvert_exporter": "python",
   "pygments_lexer": "ipython3",
   "version": "3.8.3"
  }
 },
 "nbformat": 4,
 "nbformat_minor": 1
}
