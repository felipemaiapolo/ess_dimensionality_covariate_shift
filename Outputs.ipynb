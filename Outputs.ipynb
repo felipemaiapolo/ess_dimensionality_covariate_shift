{
 "cells": [
  {
   "cell_type": "markdown",
   "metadata": {},
   "source": [
    "## Importing packages"
   ]
  },
  {
   "cell_type": "code",
   "execution_count": 1,
   "metadata": {},
   "outputs": [
    {
     "name": "stderr",
     "output_type": "stream",
     "text": [
      "Using TensorFlow backend.\n",
      "/home/felipe/anaconda3/lib/python3.7/site-packages/tensorflow/python/framework/dtypes.py:526: FutureWarning: Passing (type, 1) or '1type' as a synonym of type is deprecated; in a future version of numpy, it will be understood as (type, (1,)) / '(1,)type'.\n",
      "  _np_qint8 = np.dtype([(\"qint8\", np.int8, 1)])\n",
      "/home/felipe/anaconda3/lib/python3.7/site-packages/tensorflow/python/framework/dtypes.py:527: FutureWarning: Passing (type, 1) or '1type' as a synonym of type is deprecated; in a future version of numpy, it will be understood as (type, (1,)) / '(1,)type'.\n",
      "  _np_quint8 = np.dtype([(\"quint8\", np.uint8, 1)])\n",
      "/home/felipe/anaconda3/lib/python3.7/site-packages/tensorflow/python/framework/dtypes.py:528: FutureWarning: Passing (type, 1) or '1type' as a synonym of type is deprecated; in a future version of numpy, it will be understood as (type, (1,)) / '(1,)type'.\n",
      "  _np_qint16 = np.dtype([(\"qint16\", np.int16, 1)])\n",
      "/home/felipe/anaconda3/lib/python3.7/site-packages/tensorflow/python/framework/dtypes.py:529: FutureWarning: Passing (type, 1) or '1type' as a synonym of type is deprecated; in a future version of numpy, it will be understood as (type, (1,)) / '(1,)type'.\n",
      "  _np_quint16 = np.dtype([(\"quint16\", np.uint16, 1)])\n",
      "/home/felipe/anaconda3/lib/python3.7/site-packages/tensorflow/python/framework/dtypes.py:530: FutureWarning: Passing (type, 1) or '1type' as a synonym of type is deprecated; in a future version of numpy, it will be understood as (type, (1,)) / '(1,)type'.\n",
      "  _np_qint32 = np.dtype([(\"qint32\", np.int32, 1)])\n",
      "/home/felipe/anaconda3/lib/python3.7/site-packages/tensorflow/python/framework/dtypes.py:535: FutureWarning: Passing (type, 1) or '1type' as a synonym of type is deprecated; in a future version of numpy, it will be understood as (type, (1,)) / '(1,)type'.\n",
      "  np_resource = np.dtype([(\"resource\", np.ubyte, 1)])\n"
     ]
    }
   ],
   "source": [
    "import io\n",
    "import requests\n",
    "import os\n",
    "import sys\n",
    "import math\n",
    "import numpy as np  \n",
    "import pandas as pd\n",
    "import matplotlib.pyplot as plt\n",
    "import pickle\n",
    "import seaborn as sns\n",
    "import random\n",
    "import copy\n",
    "import keras.backend\n",
    "import multiprocessing as mp\n",
    "import random\n",
    "import matplotlib.patches as mpatches\n",
    "%matplotlib inline"
   ]
  },
  {
   "cell_type": "markdown",
   "metadata": {},
   "source": [
    "## Loading results"
   ]
  },
  {
   "cell_type": "markdown",
   "metadata": {},
   "source": [
    "Downloading datasets"
   ]
  },
  {
   "cell_type": "code",
   "execution_count": 2,
   "metadata": {},
   "outputs": [],
   "source": [
    "dataset_names=['abalone','ailerons','bank32nh','cal_housing','cpu_act','delta_ailerons',\n",
    "               'elevators', 'fried_delve','puma32H', 'winequality' ]"
   ]
  },
  {
   "cell_type": "code",
   "execution_count": 3,
   "metadata": {},
   "outputs": [],
   "source": [
    "B=100"
   ]
  },
  {
   "cell_type": "markdown",
   "metadata": {},
   "source": [
    "Loading"
   ]
  },
  {
   "cell_type": "code",
   "execution_count": 4,
   "metadata": {},
   "outputs": [],
   "source": [
    "labels={'reg':'Regression','class':'Classification'}"
   ]
  },
  {
   "cell_type": "code",
   "execution_count": 5,
   "metadata": {},
   "outputs": [],
   "source": [
    "experiments_true1_output = {}\n",
    "experiments_true2_output = {}\n",
    "experiments_0_output = {}\n",
    "experiments_1_output = {}\n",
    "experiments_2_output = {}\n",
    "experiments_3_output = {}\n",
    "experiments_4_output = {}\n",
    "experiments_5_output = {}"
   ]
  },
  {
   "cell_type": "code",
   "execution_count": 6,
   "metadata": {},
   "outputs": [],
   "source": [
    "for xp in ['reg','class']:\n",
    "   \n",
    "    with open('outputs/experiments_true1_output_'+xp+'.pkl', 'rb') as f:\n",
    "        experiments_true1_output[xp] = pickle.load(f)\n",
    "\n",
    "    with open('outputs/experiments_true2_output_'+xp+'.pkl', 'rb') as f:\n",
    "        experiments_true2_output[xp] = pickle.load(f)\n",
    "        \n",
    "    with open('outputs/experiments_0_output_'+xp+'.pkl', 'rb') as f:\n",
    "        experiments_0_output[xp] = pickle.load(f)\n",
    "\n",
    "    with open('outputs/experiments_1_output_'+xp+'.pkl', 'rb') as f:\n",
    "        experiments_1_output[xp] = pickle.load(f)\n",
    "\n",
    "    with open('outputs/experiments_2_output_'+xp+'.pkl', 'rb') as f:\n",
    "        experiments_2_output[xp] = pickle.load(f)\n",
    "\n",
    "    with open('outputs/experiments_3_output_'+xp+'.pkl', 'rb') as f:\n",
    "        experiments_3_output[xp] = pickle.load(f)\n",
    "\n",
    "    with open('outputs/experiments_4_output_'+xp+'.pkl', 'rb') as f:\n",
    "        experiments_4_output[xp] = pickle.load(f)\n",
    "\n",
    "    with open('outputs/experiments_5_output_'+xp+'.pkl', 'rb') as f:\n",
    "        experiments_5_output[xp] = pickle.load(f)"
   ]
  },
  {
   "cell_type": "markdown",
   "metadata": {},
   "source": [
    "# Results"
   ]
  },
  {
   "cell_type": "markdown",
   "metadata": {},
   "source": [
    "## Table Number of Vars"
   ]
  },
  {
   "cell_type": "markdown",
   "metadata": {},
   "source": [
    "N Original Vars"
   ]
  },
  {
   "cell_type": "code",
   "execution_count": 7,
   "metadata": {},
   "outputs": [],
   "source": [
    "nvars_original={}\n",
    "nvars_original[\"abalone\"]=[7,40]\n",
    "nvars_original[\"ailerons\"]=[40,40]\n",
    "nvars_original[\"bank32nh\"]=[32,40]\n",
    "nvars_original[\"cal_housing\"]=[8,40]\n",
    "nvars_original[\"cpu_act\"]=[21,40]\n",
    "nvars_original[\"delta_ailerons\"]=[5,40]\n",
    "nvars_original[\"elevators\"]=[18,40]\n",
    "nvars_original[\"fried_delve\"]=[10,40]\n",
    "nvars_original[\"puma32H\"]=[32,40]\n",
    "nvars_original[\"winequality\"]=[11,40]"
   ]
  },
  {
   "cell_type": "markdown",
   "metadata": {},
   "source": [
    "N Selected Vars"
   ]
  },
  {
   "cell_type": "code",
   "execution_count": 8,
   "metadata": {},
   "outputs": [],
   "source": [
    "nvars={}\n",
    "stds_nvars={}\n",
    "\n",
    "for xp in ['reg','class']:\n",
    "    nvars[xp]={}\n",
    "    stds_nvars[xp]={}\n",
    "    \n",
    "    for name in dataset_names: \n",
    "\n",
    "        nvars_aux=[]\n",
    "\n",
    "        for b in range(B):\n",
    "\n",
    "            index_experiment_3 = experiments_3_output[xp][name][:,0]==b\n",
    "            experiment_3_nvars = experiments_3_output[xp][name][index_experiment_3,4][0]\n",
    "\n",
    "            nvars_aux.append(experiment_3_nvars)\n",
    "\n",
    "        nvars_aux=np.array(nvars_aux)\n",
    "\n",
    "        nvars[xp][name]=np.mean(nvars_aux, axis=0).tolist()\n",
    "        stds_nvars[xp][name]=np.std(nvars_aux, axis=0).tolist()"
   ]
  },
  {
   "cell_type": "code",
   "execution_count": 9,
   "metadata": {},
   "outputs": [
    {
     "name": "stdout",
     "output_type": "stream",
     "text": [
      "\\begin{table}[h] \n",
      " \\centering \n",
      " \\caption{text} \n",
      " \\label{tab:nvars}% \n",
      " \\resizebox{\\columnwidth}{!}{% \n",
      " \\begin{tabular}{ccccc} \n",
      " \\hline \n",
      "  Dataset & Original & Augment. & Selected (Reg) & Selected (Class) \\\\ \n",
      " \\hline \n",
      "\n",
      "abalone & $ 7 $ & $ 40 $ & $ 3.93  \\pm  1.26 $ & $ 11.94  \\pm  4.57 $  \\\\ \n",
      "ailerons & $ 40 $ & $ 40 $ & $ 4.92  \\pm  0.52 $ & $ 3.82  \\pm  0.68 $  \\\\ \n",
      "bank32nh & $ 32 $ & $ 40 $ & $ 10.00  \\pm  1.84 $ & $ 13.19  \\pm  1.69 $  \\\\ \n",
      "cal housing & $ 8 $ & $ 40 $ & $ 5.53  \\pm  1.14 $ & $ 6.71  \\pm  4.51 $  \\\\ \n",
      "cpu act & $ 21 $ & $ 40 $ & $ 10.01  \\pm  1.14 $ & $ 2.61  \\pm  0.79 $  \\\\ \n",
      "delta ailerons & $ 5 $ & $ 40 $ & $ 3.92  \\pm  0.42 $ & $ 3.70  \\pm  0.67 $  \\\\ \n",
      "elevators & $ 18 $ & $ 40 $ & $ 7.96  \\pm  0.79 $ & $ 12.91  \\pm  2.24 $  \\\\ \n",
      "fried delve & $ 10 $ & $ 40 $ & $ 4.48  \\pm  0.50 $ & $ 5.00  \\pm  0.00 $  \\\\ \n",
      "puma32H & $ 32 $ & $ 40 $ & $ 1.98  \\pm  0.14 $ & $ 11.76  \\pm  4.63 $  \\\\ \n",
      "winequality & $ 11 $ & $ 40 $ & $ 9.56  \\pm  1.09 $ & $ 14.00  \\pm  0.00 $  \\\\ \n",
      "\n",
      " \\hline \n",
      " \\end{tabular}% \n",
      " } \n",
      " \\end{table}% \n",
      "\n"
     ]
    }
   ],
   "source": [
    "print(\"\\\\begin{table}[h] \\n\",\n",
    "      \"\\centering \\n\",\n",
    "      '\\caption{text} \\n',\n",
    "      '\\label{tab:nvars}% \\n',\n",
    "      \"\\\\resizebox{\\columnwidth}{!}{% \\n\",\n",
    "      '\\\\begin{tabular}{ccccc} \\n',\n",
    "      '\\\\hline \\n',\n",
    "      ' Dataset & Original & Augment. & Selected (Reg) & Selected (Class) \\\\\\ \\n',\n",
    "      '\\\\hline \\n')\n",
    "\n",
    "for name in dataset_names:  \n",
    "\n",
    "    print(name.replace(\"_\", \" \") + ' & $ {} $ & $ {} $ & $ {:.02f}  \\pm  {:.02f} $ & $ {:.02f}  \\pm  {:.02f} $  \\\\\\ '.format(nvars_original[name][0], nvars_original[name][1], nvars['reg'][name], stds_nvars['reg'][name], nvars['class'][name], stds_nvars['class'][name]))\n",
    "\n",
    "    \n",
    "print('\\n \\\\hline \\n',\n",
    "      '\\end{tabular}% \\n',\n",
    "      '} \\n',\n",
    "      '\\end{table}% \\n')"
   ]
  },
  {
   "cell_type": "markdown",
   "metadata": {},
   "source": [
    "## Tabela 1"
   ]
  },
  {
   "cell_type": "markdown",
   "metadata": {},
   "source": [
    "Errors"
   ]
  },
  {
   "cell_type": "code",
   "execution_count": 10,
   "metadata": {},
   "outputs": [],
   "source": [
    "errors={}\n",
    "stds_errors={}\n",
    "\n",
    "for xp in ['reg','class']:\n",
    "    errors[xp]={}\n",
    "    stds_errors[xp]={}\n",
    "\n",
    "    for name in dataset_names: \n",
    "\n",
    "        errors_aux=[]\n",
    "\n",
    "        for b in range(B):\n",
    "\n",
    "            index_experiment_0 = experiments_0_output[xp][name][:,0]==b\n",
    "            experiment_0_error = experiments_0_output[xp][name][index_experiment_0,1][0]\n",
    "            #\n",
    "            index_experiment_true1 = experiments_true1_output[xp][name][:,0]==b\n",
    "            experiment_true1_error = experiments_true1_output[xp][name][index_experiment_true1,1][0]\n",
    "\n",
    "            index_experiment_true2 = experiments_true2_output[xp][name][:,0]==b\n",
    "            experiment_true2_error = experiments_true2_output[xp][name][index_experiment_true2,1][0]\n",
    "            #\n",
    "            index_experiment_1 = experiments_1_output[xp][name][:,0]==b\n",
    "            experiment_1_error = experiments_1_output[xp][name][index_experiment_1,1][0]\n",
    "\n",
    "            index_experiment_2 = experiments_2_output[xp][name][:,0]==b\n",
    "            experiment_2_error = experiments_2_output[xp][name][index_experiment_2,1][0]\n",
    "            #\n",
    "            index_experiment_4 = experiments_4_output[xp][name][:,0]==b\n",
    "            experiment_4_error = experiments_4_output[xp][name][index_experiment_4,1][0]\n",
    "\n",
    "            index_experiment_5 = experiments_5_output[xp][name][:,0]==b\n",
    "            experiment_5_error = experiments_5_output[xp][name][index_experiment_5,1][0]\n",
    "            #\n",
    "            errors_aux.append([experiment_0_error/experiment_0_error, experiment_true1_error/experiment_0_error, experiment_true2_error/experiment_0_error, experiment_1_error/experiment_0_error, experiment_2_error/experiment_0_error, experiment_4_error/experiment_0_error, experiment_5_error/experiment_0_error])\n",
    "\n",
    "        errors_aux=np.array(errors_aux)\n",
    "\n",
    "        errors[xp][name]=np.mean(errors_aux, axis=0).tolist()\n",
    "        stds_errors[xp][name]=np.std(errors_aux, axis=0).tolist()\n",
    "\n",
    "#errors[xp], stds_errors[xp]"
   ]
  },
  {
   "cell_type": "code",
   "execution_count": 43,
   "metadata": {},
   "outputs": [
    {
     "name": "stdout",
     "output_type": "stream",
     "text": [
      "\\begin{table*}[h] \n",
      " \\centering \n",
      " \\caption{text} \n",
      " \\label{tab:performance}% \n",
      " \\resizebox{503}{!}{ \n",
      " \\begin{tabular}{cccccc} \n",
      " \\hline \n",
      " \\multicolumn{1}{c}{} & \\multicolumn{1}{c}{} & \\multicolumn{3}{c}{All features} & \\multicolumn{1}{c}{Selected features}  \\\\ \n",
      " \\hline \n",
      "  & Dataset & Unweighted & True weights & Estimated weights  & Estimated weights  \\\\ \n",
      "\n",
      "\\hline \n",
      " \\multirow{10}{*}{\\rotatebox[origin=c]{90}{Regression}} & abalone\n",
      "& $ 1.00 $ & $ 1.37  \\pm  0.21 $ & $ 1.22  \\pm 0.17 $ & $ 0.91  \\pm  0.05 $ \\\\ \n",
      "& ailerons\n",
      "& $ 1.00 $ & $ 1.02  \\pm  0.13 $ & $ 0.98  \\pm 0.10 $ & $ 0.87  \\pm  0.10 $ \\\\ \n",
      "& bank32nh\n",
      "& $ 1.00 $ & $ 1.27  \\pm  0.12 $ & $ 1.19  \\pm 0.09 $ & $ 0.97  \\pm  0.05 $ \\\\ \n",
      "& cal housing\n",
      "& $ 1.00 $ & $ 1.52  \\pm  0.25 $ & $ 1.38  \\pm 0.21 $ & $ 0.85  \\pm  0.08 $ \\\\ \n",
      "& cpu act\n",
      "& $ 1.00 $ & $ 0.55  \\pm  0.62 $ & $ 0.58  \\pm 0.64 $ & $ 0.15  \\pm  0.22 $ \\\\ \n",
      "& delta ailerons\n",
      "& $ 1.00 $ & $ 1.37  \\pm  0.14 $ & $ 1.26  \\pm 0.10 $ & $ 0.91  \\pm  0.03 $ \\\\ \n",
      "& elevators\n",
      "& $ 1.00 $ & $ 1.09  \\pm  0.16 $ & $ 1.04  \\pm 0.14 $ & $ 0.84  \\pm  0.15 $ \\\\ \n",
      "& fried delve\n",
      "& $ 1.00 $ & $ 1.56  \\pm  0.20 $ & $ 1.39  \\pm 0.12 $ & $ 0.88  \\pm  0.09 $ \\\\ \n",
      "& puma32H\n",
      "& $ 1.00 $ & $ 2.11  \\pm  0.99 $ & $ 1.45  \\pm 0.19 $ & $ 1.02  \\pm  1.07 $ \\\\ \n",
      "& winequality\n",
      "& $ 1.00 $ & $ 1.31  \\pm  0.12 $ & $ 1.23  \\pm 0.09 $ & $ 0.95  \\pm  0.04 $ \\\\ \n",
      "\\hline \n",
      " \\multirow{10}{*}{\\rotatebox[origin=c]{90}{Classification}} & abalone\n",
      "& $ 1.00 $ & $ 1.24  \\pm  0.15 $ & $ 1.16  \\pm 0.14 $ & $ 1.00  \\pm  0.12 $ \\\\ \n",
      "& ailerons\n",
      "& $ 1.00 $ & $ 1.03  \\pm  0.22 $ & $ 1.00  \\pm 0.17 $ & $ 0.84  \\pm  0.13 $ \\\\ \n",
      "& bank32nh\n",
      "& $ 1.00 $ & $ 1.22  \\pm  0.10 $ & $ 1.17  \\pm 0.09 $ & $ 0.97  \\pm  0.07 $ \\\\ \n",
      "& cal housing\n",
      "& $ 1.00 $ & $ 1.39  \\pm  0.20 $ & $ 1.32  \\pm 0.17 $ & $ 0.90  \\pm  0.17 $ \\\\ \n",
      "& cpu act\n",
      "& $ 1.00 $ & $ 1.07  \\pm  0.13 $ & $ 1.03  \\pm 0.12 $ & $ 0.98  \\pm  0.12 $ \\\\ \n",
      "& delta ailerons\n",
      "& $ 1.00 $ & $ 1.32  \\pm  0.29 $ & $ 1.21  \\pm 0.22 $ & $ 0.83  \\pm  0.09 $ \\\\ \n",
      "& elevators\n",
      "& $ 1.00 $ & $ 1.06  \\pm  0.13 $ & $ 1.03  \\pm 0.12 $ & $ 0.88  \\pm  0.11 $ \\\\ \n",
      "& fried delve\n",
      "& $ 1.00 $ & $ 1.31  \\pm  0.16 $ & $ 1.22  \\pm 0.13 $ & $ 0.83  \\pm  0.05 $ \\\\ \n",
      "& puma32H\n",
      "& $ 1.00 $ & $ 1.65  \\pm  0.55 $ & $ 1.19  \\pm 0.14 $ & $ 1.05  \\pm  0.38 $ \\\\ \n",
      "& winequality\n",
      "& $ 1.00 $ & $ 1.16  \\pm  0.10 $ & $ 1.11  \\pm 0.09 $ & $ 1.03  \\pm  0.09 $ \\\\ \n",
      "\n",
      " \\hline \n",
      " \\end{tabular}% \n",
      " } \n",
      " \\end{table*}% \n",
      "\n"
     ]
    }
   ],
   "source": [
    "print(\"\\\\begin{table*}[h] \\n\",\n",
    "      \"\\centering \\n\",\n",
    "      '\\caption{text} \\n',\n",
    "      '\\label{tab:performance}% \\n',\n",
    "      '\\\\resizebox{503}{!}{ \\n',\n",
    "      '\\\\begin{tabular}{cccccc} \\n',\n",
    "      '\\\\hline \\n',\n",
    "      '\\multicolumn{1}{c}{} & \\multicolumn{1}{c}{} & \\multicolumn{3}{c}{All features} & \\multicolumn{1}{c}{Selected features}  \\\\\\ \\n',\n",
    "      '\\\\hline \\n',\n",
    "      ' & Dataset & Unweighted & True weights & Estimated weights  & Estimated weights  \\\\\\ \\n')   \n",
    "  \n",
    "for xp in ['reg','class']:   \n",
    "    for name in dataset_names:  \n",
    "        if name=='abalone': print(\"\\hline \\n \\\\multirow{10}{*}{\\\\rotatebox[origin=c]{90}{\"+labels[xp]+\"}} & \" + name.replace(\"_\", \" \")) \n",
    "        else: print(\"& \" + name.replace(\"_\", \" \")) \n",
    "\n",
    "        print('& $ {:.2f} $ & $ {:.2f}  \\pm  {:.2f} $ & $ {:.2f}  \\pm {:.2f} $ & $ {:.2f}  \\pm  {:.2f} $ \\\\\\ '.format(errors[xp][name][0], errors[xp][name][1], stds_errors[xp][name][1], errors[xp][name][3], stds_errors[xp][name][3], errors[xp][name][5], stds_errors[xp][name][5]))\n",
    "\n",
    "      \n",
    "print('\\n \\\\hline \\n',\n",
    "      '\\end{tabular}% \\n',\n",
    "      '} \\n',\n",
    "      '\\end{table*}% \\n')"
   ]
  },
  {
   "cell_type": "markdown",
   "metadata": {},
   "source": [
    "# Plots"
   ]
  },
  {
   "cell_type": "code",
   "execution_count": 12,
   "metadata": {},
   "outputs": [],
   "source": [
    "ess={}\n",
    "\n",
    "for xp in ['reg','class']:\n",
    "    ess[xp]={}\n",
    "    \n",
    "    ess[xp][0]=[]\n",
    "    ess[xp][2]=[]\n",
    "    ess[xp][4]=[]\n",
    "\n",
    "    for name in dataset_names: \n",
    "\n",
    "        for b in range(B):\n",
    "\n",
    "            index_experiment_true1 = experiments_true1_output[xp][name][:,0]==b\n",
    "            ess[xp][0].append(experiments_true1_output[xp][name][index_experiment_true1,3][0])\n",
    "\n",
    "            index_experiment_1 = experiments_1_output[xp][name][:,0]==b\n",
    "            ess[xp][2].append( experiments_1_output[xp][name][index_experiment_1,3][0])\n",
    "\n",
    "            index_experiment_4 = experiments_4_output[xp][name][:,0]==b\n",
    "            ess[xp][4].append(experiments_4_output[xp][name][index_experiment_4,3][0])"
   ]
  },
  {
   "cell_type": "code",
   "execution_count": 41,
   "metadata": {},
   "outputs": [
    {
     "data": {
      "image/png": "[encoded data removed]",
      "text/plain": [
       "<Figure size 432x288 with 1 Axes>"
      ]
     },
     "metadata": {
      "needs_background": "light"
     },
     "output_type": "display_data"
    }
   ],
   "source": [
    "xp1='class'\n",
    "xp2='reg'\n",
    "\n",
    "wid=1.4\n",
    "\n",
    "box_plot_data=[ess[xp1][0]+ess[xp2][0],ess[xp1][2]+ess[xp2][2],ess[xp1][4]+ess[xp2][4]]\n",
    "bp = plt.boxplot(box_plot_data, sym=\"\", patch_artist=True, widths=.6, positions=[1,2.5,4.25])\n",
    "\n",
    "## change color and linewidth of the whiskers\n",
    "for whisker in bp['whiskers']:\n",
    "    whisker.set(color='k', linewidth=wid)\n",
    "    \n",
    "## change outline color, fill color and linewidth of the boxes\n",
    "for box in bp['boxes']:\n",
    "    # change outline color\n",
    "    box.set(color='k', linewidth=wid)\n",
    "    # change fill color\n",
    "    box.set( facecolor = 'w' )\n",
    "    \n",
    "## change color and linewidth of the caps\n",
    "for cap in bp['caps']:\n",
    "    cap.set(color='k', linewidth=wid)\n",
    "    \n",
    "## change color and linewidth of the medians\n",
    "for median in bp['medians']:\n",
    "    median.set(color='b', linewidth=wid)\n",
    "\n",
    "plt.xlim((.5,5))\n",
    "plt.ylabel('Effective Sample Size (%)', size=13)\n",
    "plt.yticks(size=12)\n",
    "plt.xticks([1, 2.5, 4.25], ['True weights\\n(All features)', 'Estimated weights\\n(All features)', 'Estimated weights\\n(Selected features)'], size=12)\n",
    "\n",
    "###########################################################################\n",
    "\n",
    "plt.savefig('plots/boxplot.png', bbox_inches='tight',dpi=300, transparent=True) #, \n",
    "plt.show()"
   ]
  },
  {
   "cell_type": "code",
   "execution_count": null,
   "metadata": {},
   "outputs": [],
   "source": []
  },
  {
   "cell_type": "code",
   "execution_count": null,
   "metadata": {},
   "outputs": [],
   "source": []
  },
  {
   "cell_type": "code",
   "execution_count": null,
   "metadata": {},
   "outputs": [],
   "source": []
  },
  {
   "cell_type": "code",
   "execution_count": null,
   "metadata": {},
   "outputs": [],
   "source": []
  },
  {
   "cell_type": "code",
   "execution_count": null,
   "metadata": {},
   "outputs": [],
   "source": []
  }
 ],
 "metadata": {
  "kernelspec": {
   "display_name": "Python 3",
   "language": "python",
   "name": "python3"
  },
  "language_info": {
   "codemirror_mode": {
    "name": "ipython",
    "version": 3
   },
   "file_extension": ".py",
   "mimetype": "text/x-python",
   "name": "python",
   "nbconvert_exporter": "python",
   "pygments_lexer": "ipython3",
   "version": "3.7.3"
  }
 },
 "nbformat": 4,
 "nbformat_minor": 4
}
